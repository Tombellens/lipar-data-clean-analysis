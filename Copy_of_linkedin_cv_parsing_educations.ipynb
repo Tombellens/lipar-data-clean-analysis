{
  "cells": [
    {
      "cell_type": "markdown",
      "metadata": {
        "id": "view-in-github",
        "colab_type": "text"
      },
      "source": [
        "<a href=\"https://colab.research.google.com/github/Tombellens/lipar-data-clean-analysis/blob/main/Copy_of_linkedin_cv_parsing_educations.ipynb\" target=\"_parent\"><img src=\"https://colab.research.google.com/assets/colab-badge.svg\" alt=\"Open In Colab\"/></a>"
      ]
    },
    {
      "cell_type": "code",
      "execution_count": null,
      "metadata": {
        "id": "hSD3lS38Pzez"
      },
      "outputs": [],
      "source": [
        "!pip install openai\n",
        "!pip install PyPDF2\n",
        "\n",
        "import os\n",
        "import pandas as pd\n",
        "import json\n",
        "import os\n",
        "import requests\n",
        "import subprocess\n",
        "from PyPDF2 import PdfReader\n",
        "from openai import OpenAI\n",
        "import dateutil\n",
        "client = OpenAI(\n",
        "   api_key = #[openAIKey]\n",
        ")"
      ]
    },
    {
      "cell_type": "code",
      "execution_count": null,
      "metadata": {
        "id": "Jqvf7BrBP2bu"
      },
      "outputs": [],
      "source": [
        "def normalize_educations(json_data):\n",
        "  print(json_data)\n",
        "  normalized_data = []\n",
        "  for education in json_data['education']:\n",
        "    normalized_education = {\n",
        "            \"degree\": \"\",\n",
        "            \"institution\": \"\",\n",
        "            \"fieldOfStudy\": \"\",\n",
        "            \"start-date\": \"\",\n",
        "            \"end-date\":\"\"}\n",
        "    normalized_education[\"degree\"] = education.get(\"degree\", \"\")\n",
        "    normalized_education[\"institution\"] = education.get(\"institution\", \"\")\n",
        "    normalized_education[\"fieldOfStudy\"] = education.get(\"fieldOfStudy\", \"\")\n",
        "    normalized_education[\"start-date\"] = education.get(\"startDate\", \"\")\n",
        "    normalized_education[\"end-date\"] = education.get(\"endDate\", \"\")\n",
        "\n",
        "    normalized_data.append(normalized_education)\n",
        "\n",
        "  return normalized_data\n",
        "\n",
        "\n",
        "def get_education(linkedinCV):\n",
        "      reader = PdfReader(linkedinCV)\n",
        "      number_of_pages = len(reader.pages)\n",
        "      full_text = ''\n",
        "      for page in reader.pages:\n",
        "         full_text = full_text + page.extract_text()\n",
        "\n",
        "      print(full_text)\n",
        "      response_json_education = client.chat.completions.create(\n",
        "      model='gpt-4o-mini',\n",
        "      response_format={\"type\": \"json_object\"},\n",
        "      messages=[\n",
        "      {\"role\": \"system\", \"content\": \"You are a helpful assistant.\"},\n",
        "      {\"role\": \"user\", \"content\": \"The user sends you a PDF resume in text format. You should parse this file and return information on their education in a JSON file in the following format:{\\\"education\\\":[{\\\"degree\\\": , \\\"institution\\\": ,\\\"fieldOfStudy\\\" \\\"startDate\\\", \\\"endDate\\\"}]}.The 'degree' field is exclusively meant for titles such as 'Master, PhD, Bachelor,.. ADHERE TO THIS FORMAT, THE KEYS AND ADD NO TEXT AS YOUR RESPONSE WILL BE USED BY A PARSER\",},\n",
        "      {\"role\": \"user\", \"content\": \"This is the PDF text: \" + full_text}])\n",
        "      print(response_json_education.choices[0].message.content)\n",
        "      try:\n",
        "        return normalize_educations(json.loads(response_json_education.choices[0].message.content))\n",
        "\n",
        "      except:\n",
        "        print('Something went wrong while parsing attempt 1. Trying a second time..')\n",
        "        response_json_education = client.chat.completions.create(\n",
        "        model='gpt-4o-mini',\n",
        "        response_format={\"type\": \"json_object\"},\n",
        "        messages=[\n",
        "        {\"role\": \"system\", \"content\": \"You are a helpful assistant.\"},\n",
        "        {\"role\": \"user\", \"content\": \"The user has already sent you PDF resume in text format but will send you again in the next message.  You should parse this file and return information on their education in a JSON file in the following format:{\\\"education\\\":[{\\\"degree\\\": , \\\"institution\\\": ,\\\"fieldOfStudy\\\" \\\"startDate\\\", \\\"endDate\\\"}]}. The 'degree' field is exclusively meant for titles such as 'Master, PhD, Bachelor,.. PREVIOUSLY YOU MADE A MISTAKE SO ADHERE TO THIS FORMAT, THE KEYS AND ADD NO TEXT AS YOUR RESPONSE WILL BE USED BY A PARSER\",},\n",
        "        {\"role\": \"user\", \"content\": \"This is the PDF text: \" + full_text}])\n",
        "\n",
        "        return normalize_educations(json.loads(response_json_education.choices[0].message.content))\n",
        "\n",
        "\n",
        "\n",
        "\n"
      ]
    },
    {
      "cell_type": "code",
      "execution_count": null,
      "metadata": {
        "colab": {
          "background_save": true
        },
        "id": "qZhvGj9p5d-l"
      },
      "outputs": [],
      "source": [
        "fileDirs = os.listdir('/content/drive/MyDrive/federal_json_entries_named/')\n",
        "df_FL = pd.DataFrame()\n",
        "linkedinCVs = os.listdir('/content/drive/MyDrive/linkedin_belgium')\n",
        "\n",
        "trouble = [] #Ambiguous name-linkedin matches\n",
        "trouble_parsing = []\n",
        "already_parsed = os.listdir('/content/drive/MyDrive/linkedin_json_federal/education/')\n",
        "for fileDir in fileDirs:\n",
        "  person_positions = json.load(open('/content/drive/MyDrive/federal_json_entries_named/' + fileDir))\n",
        "  print(person_positions)\n",
        "  position = person_positions[0]\n",
        "  if (position['first_name'] + \"__\" + position['last_name']) not in already_parsed:\n",
        "    for linkedinCV in linkedinCVs:\n",
        "      if position['first_name'].lower() in linkedinCV.lower() and position['last_name'].lower() in linkedinCV.lower():\n",
        "        print('match' + position['first_name'] + \" \" + position['last_name'] + \"-\" + linkedinCV)\n",
        "        try:\n",
        "          positions = get_education('/content/drive/MyDrive/linkedin_belgium/' + linkedinCV)\n",
        "          print(positions)\n",
        "          json_object = json.dumps(positions, indent=4)\n",
        "          print(json_object)\n",
        "          if not os.path.exists('/content/drive/MyDrive/linkedin_json_federal/education/' + position['first_name'] + \"__\" + position['last_name'] + '/'):\n",
        "                os.makedirs('/content/drive/MyDrive/linkedin_json_federal/education/' + position['first_name'] + \"__\" + position['last_name'] + '/')\n",
        "          with open('/content/drive/MyDrive/linkedin_json_federal/education/' + position['first_name'] + \"__\" + position['last_name'] + '/' +  linkedinCV.replace('.pdf', '.json'), \"w\") as outfile:\n",
        "            outfile.write(json_object)\n",
        "        except:\n",
        "          print('something went wrong. Adding to the list of problems')\n",
        "          trouble_parsing.append(position['first_name'] + \"-\" + position['last_name'])\n",
        "\n",
        "\n"
      ]
    },
    {
      "cell_type": "code",
      "execution_count": null,
      "metadata": {
        "colab": {
          "base_uri": "https://localhost:8080/"
        },
        "id": "Llsq_pmKBX9X",
        "outputId": "01c359b5-3411-4e2f-b29b-ce1507139b45"
      },
      "outputs": [
        {
          "output_type": "execute_result",
          "data": {
            "text/plain": [
              "1909"
            ]
          },
          "metadata": {},
          "execution_count": 2
        }
      ],
      "source": [
        "len(os.listdir('/content/drive/MyDrive/linkedin_json_federal/education/'))"
      ]
    }
  ],
  "metadata": {
    "colab": {
      "provenance": [],
      "mount_file_id": "1wjsjLGMZTPBh1gp2SP5dwPuBzAmJxIUp",
      "authorship_tag": "ABX9TyPBrHlbvxbBlcYjt1dfWw0f",
      "include_colab_link": true
    },
    "kernelspec": {
      "display_name": "Python 3",
      "name": "python3"
    },
    "language_info": {
      "name": "python"
    }
  },
  "nbformat": 4,
  "nbformat_minor": 0
}